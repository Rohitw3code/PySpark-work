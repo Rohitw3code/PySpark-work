{
  "nbformat": 4,
  "nbformat_minor": 0,
  "metadata": {
    "colab": {
      "provenance": []
    },
    "kernelspec": {
      "name": "python3",
      "display_name": "Python 3"
    },
    "language_info": {
      "name": "python"
    }
  },
  "cells": [
    {
      "cell_type": "code",
      "execution_count": 8,
      "metadata": {
        "colab": {
          "base_uri": "https://localhost:8080/"
        },
        "id": "tJjooM6oruQo",
        "outputId": "5e2fcab7-2a92-4b81-ce14-29dc1c4303b5"
      },
      "outputs": [
        {
          "output_type": "stream",
          "name": "stdout",
          "text": [
            "Requirement already satisfied: pyspark in /usr/local/lib/python3.10/dist-packages (3.5.1)\n",
            "Requirement already satisfied: py4j==0.10.9.7 in /usr/local/lib/python3.10/dist-packages (from pyspark) (0.10.9.7)\n"
          ]
        }
      ],
      "source": [
        "!pip install pyspark"
      ]
    },
    {
      "cell_type": "code",
      "source": [
        "from pyspark.sql import SparkSession\n",
        "import pyspark"
      ],
      "metadata": {
        "id": "rtpBNrdqsDtv"
      },
      "execution_count": 145,
      "outputs": []
    },
    {
      "cell_type": "code",
      "source": [
        "spark = SparkSession.builder.appName('Practice').getOrCreate()"
      ],
      "metadata": {
        "id": "HcBEXhzcr0oD"
      },
      "execution_count": 6,
      "outputs": []
    },
    {
      "cell_type": "code",
      "source": [
        "spark"
      ],
      "metadata": {
        "colab": {
          "base_uri": "https://localhost:8080/",
          "height": 219
        },
        "id": "eoCElYQUr6Dc",
        "outputId": "76d3e875-3888-41b1-ecf3-a14e13a0a97c"
      },
      "execution_count": 146,
      "outputs": [
        {
          "output_type": "execute_result",
          "data": {
            "text/plain": [
              "<pyspark.sql.session.SparkSession at 0x7afbb66bac20>"
            ],
            "text/html": [
              "\n",
              "            <div>\n",
              "                <p><b>SparkSession - in-memory</b></p>\n",
              "                \n",
              "        <div>\n",
              "            <p><b>SparkContext</b></p>\n",
              "\n",
              "            <p><a href=\"http://3310ae5263fb:4040\">Spark UI</a></p>\n",
              "\n",
              "            <dl>\n",
              "              <dt>Version</dt>\n",
              "                <dd><code>v3.5.1</code></dd>\n",
              "              <dt>Master</dt>\n",
              "                <dd><code>local[*]</code></dd>\n",
              "              <dt>AppName</dt>\n",
              "                <dd><code>Practice</code></dd>\n",
              "            </dl>\n",
              "        </div>\n",
              "        \n",
              "            </div>\n",
              "        "
            ]
          },
          "metadata": {},
          "execution_count": 146
        }
      ]
    },
    {
      "cell_type": "code",
      "source": [
        "df_spark = spark.read.csv('/content/employeePromotion.csv')"
      ],
      "metadata": {
        "id": "L8-JiW370VKU"
      },
      "execution_count": 56,
      "outputs": []
    },
    {
      "cell_type": "code",
      "source": [
        "df_spark"
      ],
      "metadata": {
        "colab": {
          "base_uri": "https://localhost:8080/"
        },
        "id": "nvxhrIaq4fZc",
        "outputId": "076af4a1-bed0-449d-f853-8a26816504b0"
      },
      "execution_count": 57,
      "outputs": [
        {
          "output_type": "execute_result",
          "data": {
            "text/plain": [
              "DataFrame[_c0: string, _c1: string, _c2: string, _c3: string, _c4: string, _c5: string, _c6: string, _c7: string, _c8: string, _c9: string, _c10: string, _c11: string, _c12: string, _c13: string]"
            ]
          },
          "metadata": {},
          "execution_count": 57
        }
      ]
    },
    {
      "cell_type": "code",
      "source": [
        "df = spark.read.option('header','true').csv('/content/employeePromotion.csv')"
      ],
      "metadata": {
        "id": "nvU-WsBg4kxQ"
      },
      "execution_count": 84,
      "outputs": []
    },
    {
      "cell_type": "code",
      "source": [
        "df"
      ],
      "metadata": {
        "colab": {
          "base_uri": "https://localhost:8080/"
        },
        "id": "B6UlEbnk4xqA",
        "outputId": "5da2c0ff-cfbf-4443-bdfd-e0049b078637"
      },
      "execution_count": 85,
      "outputs": [
        {
          "output_type": "execute_result",
          "data": {
            "text/plain": [
              "DataFrame[employee_id: string, department: string, region: string, education: string, gender: string, recruitment_channel: string, no_of_trainings: string, age: string, previous_year_rating: string, length_of_service: string, KPIs_met >80%: string, awards_won?: string, avg_training_score: string, is_promoted: string]"
            ]
          },
          "metadata": {},
          "execution_count": 85
        }
      ]
    },
    {
      "cell_type": "code",
      "source": [
        "df.show()"
      ],
      "metadata": {
        "colab": {
          "base_uri": "https://localhost:8080/"
        },
        "id": "DE-TYDPz_BcZ",
        "outputId": "515bb7a9-8086-4645-df17-3d5d72522246"
      },
      "execution_count": 86,
      "outputs": [
        {
          "output_type": "stream",
          "name": "stdout",
          "text": [
            "+-----------+-----------------+---------+----------------+------+-------------------+---------------+---+--------------------+-----------------+-------------+-----------+------------------+-----------+\n",
            "|employee_id|       department|   region|       education|gender|recruitment_channel|no_of_trainings|age|previous_year_rating|length_of_service|KPIs_met >80%|awards_won?|avg_training_score|is_promoted|\n",
            "+-----------+-----------------+---------+----------------+------+-------------------+---------------+---+--------------------+-----------------+-------------+-----------+------------------+-----------+\n",
            "|      65438|Sales & Marketing| region_7|Master's & above|     f|           sourcing|              1| 35|                   5|                8|            1|          0|                49|          0|\n",
            "|      65141|       Operations|region_22|      Bachelor's|     m|              other|              1| 30|                   5|                4|            0|          0|                60|          0|\n",
            "|       7513|Sales & Marketing|region_19|      Bachelor's|     m|           sourcing|              1| 34|                   3|                7|            0|          0|                50|          0|\n",
            "|       2542|Sales & Marketing|region_23|      Bachelor's|     m|              other|              2| 39|                   1|               10|            0|          0|                50|          0|\n",
            "|      48945|       Technology|region_26|      Bachelor's|     m|              other|              1| 45|                   3|                2|            0|          0|                73|          0|\n",
            "|      58896|        Analytics| region_2|      Bachelor's|     m|           sourcing|              2| 31|                   3|                7|            0|          0|                85|          0|\n",
            "|      20379|       Operations|region_20|      Bachelor's|     f|              other|              1| 31|                   3|                5|            0|          0|                59|          0|\n",
            "|      16290|       Operations|region_34|Master's & above|     m|           sourcing|              1| 33|                   3|                6|            0|          0|                63|          0|\n",
            "|      73202|        Analytics|region_20|      Bachelor's|     m|              other|              1| 28|                   4|                5|            0|          0|                83|          0|\n",
            "|      28911|Sales & Marketing| region_1|Master's & above|     m|           sourcing|              1| 32|                   5|                5|            1|          0|                54|          0|\n",
            "|      29934|       Technology|region_23|            NULL|     m|           sourcing|              1| 30|                NULL|                1|            0|          0|                77|          0|\n",
            "|      49017|Sales & Marketing| region_7|      Bachelor's|     f|           sourcing|              1| 35|                   5|                3|            1|          0|                50|          1|\n",
            "|      60051|Sales & Marketing| region_4|      Bachelor's|     m|           sourcing|              1| 49|                   5|                5|            1|          0|                49|          0|\n",
            "|      38401|       Technology|region_29|Master's & above|     m|              other|              2| 39|                   3|               16|            0|          0|                80|          0|\n",
            "|      77040|              R&D| region_2|Master's & above|     m|           sourcing|              1| 37|                   3|                7|            0|          0|                84|          0|\n",
            "|      43931|       Operations| region_7|      Bachelor's|     m|              other|              1| 37|                   1|               10|            0|          0|                60|          0|\n",
            "|       7152|       Technology| region_2|      Bachelor's|     m|              other|              1| 38|                   3|                5|            1|          0|                77|          0|\n",
            "|       9403|Sales & Marketing|region_31|      Bachelor's|     m|              other|              1| 34|                   1|                4|            0|          0|                51|          0|\n",
            "|      17436|Sales & Marketing|region_31|      Bachelor's|     m|              other|              1| 34|                   5|                8|            1|          0|                46|          0|\n",
            "|      54461|       Operations|region_15|      Bachelor's|     m|              other|              1| 37|                   3|                9|            0|          0|                59|          0|\n",
            "+-----------+-----------------+---------+----------------+------+-------------------+---------------+---+--------------------+-----------------+-------------+-----------+------------------+-----------+\n",
            "only showing top 20 rows\n",
            "\n"
          ]
        }
      ]
    },
    {
      "cell_type": "code",
      "source": [
        "df.head(3)"
      ],
      "metadata": {
        "colab": {
          "base_uri": "https://localhost:8080/"
        },
        "id": "cacfqU81_C3u",
        "outputId": "44ca652e-4635-44ab-927d-b9efb9b79140"
      },
      "execution_count": 87,
      "outputs": [
        {
          "output_type": "execute_result",
          "data": {
            "text/plain": [
              "[Row(employee_id='65438', department='Sales & Marketing', region='region_7', education=\"Master's & above\", gender='f', recruitment_channel='sourcing', no_of_trainings='1', age='35', previous_year_rating='5', length_of_service='8', KPIs_met >80%='1', awards_won?='0', avg_training_score='49', is_promoted='0'),\n",
              " Row(employee_id='65141', department='Operations', region='region_22', education=\"Bachelor's\", gender='m', recruitment_channel='other', no_of_trainings='1', age='30', previous_year_rating='5', length_of_service='4', KPIs_met >80%='0', awards_won?='0', avg_training_score='60', is_promoted='0'),\n",
              " Row(employee_id='7513', department='Sales & Marketing', region='region_19', education=\"Bachelor's\", gender='m', recruitment_channel='sourcing', no_of_trainings='1', age='34', previous_year_rating='3', length_of_service='7', KPIs_met >80%='0', awards_won?='0', avg_training_score='50', is_promoted='0')]"
            ]
          },
          "metadata": {},
          "execution_count": 87
        }
      ]
    },
    {
      "cell_type": "code",
      "source": [
        "df.printSchema()"
      ],
      "metadata": {
        "colab": {
          "base_uri": "https://localhost:8080/"
        },
        "id": "13P_ps-g_XGS",
        "outputId": "a892ad68-5726-490d-d92a-93abce0958a8"
      },
      "execution_count": 88,
      "outputs": [
        {
          "output_type": "stream",
          "name": "stdout",
          "text": [
            "root\n",
            " |-- employee_id: string (nullable = true)\n",
            " |-- department: string (nullable = true)\n",
            " |-- region: string (nullable = true)\n",
            " |-- education: string (nullable = true)\n",
            " |-- gender: string (nullable = true)\n",
            " |-- recruitment_channel: string (nullable = true)\n",
            " |-- no_of_trainings: string (nullable = true)\n",
            " |-- age: string (nullable = true)\n",
            " |-- previous_year_rating: string (nullable = true)\n",
            " |-- length_of_service: string (nullable = true)\n",
            " |-- KPIs_met >80%: string (nullable = true)\n",
            " |-- awards_won?: string (nullable = true)\n",
            " |-- avg_training_score: string (nullable = true)\n",
            " |-- is_promoted: string (nullable = true)\n",
            "\n"
          ]
        }
      ]
    },
    {
      "cell_type": "code",
      "source": [
        "df = spark.read.csv('/content/employeePromotion.csv',header=True,inferSchema=True)"
      ],
      "metadata": {
        "id": "5wrmTQuC_mqh"
      },
      "execution_count": 115,
      "outputs": []
    },
    {
      "cell_type": "code",
      "source": [
        "df.printSchema()"
      ],
      "metadata": {
        "colab": {
          "base_uri": "https://localhost:8080/"
        },
        "id": "UxqrHy1uzwWR",
        "outputId": "3c630939-af61-4dcc-e520-8a1b6ae10a1d"
      },
      "execution_count": 116,
      "outputs": [
        {
          "output_type": "stream",
          "name": "stdout",
          "text": [
            "root\n",
            " |-- employee_id: integer (nullable = true)\n",
            " |-- department: string (nullable = true)\n",
            " |-- region: string (nullable = true)\n",
            " |-- education: string (nullable = true)\n",
            " |-- gender: string (nullable = true)\n",
            " |-- recruitment_channel: string (nullable = true)\n",
            " |-- no_of_trainings: integer (nullable = true)\n",
            " |-- age: integer (nullable = true)\n",
            " |-- previous_year_rating: integer (nullable = true)\n",
            " |-- length_of_service: integer (nullable = true)\n",
            " |-- KPIs_met >80%: integer (nullable = true)\n",
            " |-- awards_won?: integer (nullable = true)\n",
            " |-- avg_training_score: integer (nullable = true)\n",
            " |-- is_promoted: integer (nullable = true)\n",
            "\n"
          ]
        }
      ]
    },
    {
      "cell_type": "code",
      "source": [
        "df.columns"
      ],
      "metadata": {
        "colab": {
          "base_uri": "https://localhost:8080/"
        },
        "id": "HL7xDapJzxhD",
        "outputId": "8458a4b0-89ca-4e73-85a7-5e937df6c3a3"
      },
      "execution_count": 117,
      "outputs": [
        {
          "output_type": "execute_result",
          "data": {
            "text/plain": [
              "['employee_id',\n",
              " 'department',\n",
              " 'region',\n",
              " 'education',\n",
              " 'gender',\n",
              " 'recruitment_channel',\n",
              " 'no_of_trainings',\n",
              " 'age',\n",
              " 'previous_year_rating',\n",
              " 'length_of_service',\n",
              " 'KPIs_met >80%',\n",
              " 'awards_won?',\n",
              " 'avg_training_score',\n",
              " 'is_promoted']"
            ]
          },
          "metadata": {},
          "execution_count": 117
        }
      ]
    },
    {
      "cell_type": "code",
      "source": [
        " df.select('gender')"
      ],
      "metadata": {
        "colab": {
          "base_uri": "https://localhost:8080/"
        },
        "id": "d0kraJjm0_PK",
        "outputId": "c72f36c7-39f2-4910-8d7e-e77b4eee7ba0"
      },
      "execution_count": 118,
      "outputs": [
        {
          "output_type": "execute_result",
          "data": {
            "text/plain": [
              "DataFrame[gender: string]"
            ]
          },
          "metadata": {},
          "execution_count": 118
        }
      ]
    },
    {
      "cell_type": "code",
      "source": [
        " df.select('gender').head(3)"
      ],
      "metadata": {
        "colab": {
          "base_uri": "https://localhost:8080/"
        },
        "id": "MBmzWU101hHW",
        "outputId": "25bedecd-244b-4012-a622-e99aaafef996"
      },
      "execution_count": 119,
      "outputs": [
        {
          "output_type": "execute_result",
          "data": {
            "text/plain": [
              "[Row(gender='f'), Row(gender='m'), Row(gender='m')]"
            ]
          },
          "metadata": {},
          "execution_count": 119
        }
      ]
    },
    {
      "cell_type": "code",
      "source": [
        "df.select(['age','gender']).show() #select column"
      ],
      "metadata": {
        "colab": {
          "base_uri": "https://localhost:8080/"
        },
        "id": "3xQtPNwp1lMn",
        "outputId": "ba030bbb-d88e-4ef2-9835-2834fe684df0"
      },
      "execution_count": 120,
      "outputs": [
        {
          "output_type": "stream",
          "name": "stdout",
          "text": [
            "+---+------+\n",
            "|age|gender|\n",
            "+---+------+\n",
            "| 35|     f|\n",
            "| 30|     m|\n",
            "| 34|     m|\n",
            "| 39|     m|\n",
            "| 45|     m|\n",
            "| 31|     m|\n",
            "| 31|     f|\n",
            "| 33|     m|\n",
            "| 28|     m|\n",
            "| 32|     m|\n",
            "| 30|     m|\n",
            "| 35|     f|\n",
            "| 49|     m|\n",
            "| 39|     m|\n",
            "| 37|     m|\n",
            "| 37|     m|\n",
            "| 38|     m|\n",
            "| 34|     m|\n",
            "| 34|     m|\n",
            "| 37|     m|\n",
            "+---+------+\n",
            "only showing top 20 rows\n",
            "\n"
          ]
        }
      ]
    },
    {
      "cell_type": "code",
      "source": [
        "df.describe().show()"
      ],
      "metadata": {
        "colab": {
          "base_uri": "https://localhost:8080/"
        },
        "id": "XrP9Ksao1tzF",
        "outputId": "b3420410-c09f-4b57-8508-ea95d0cf1253"
      },
      "execution_count": 121,
      "outputs": [
        {
          "output_type": "stream",
          "name": "stdout",
          "text": [
            "+-------+------------------+----------+--------+----------------+------+-------------------+------------------+-----------------+--------------------+------------------+-------------------+--------------------+------------------+-------------------+\n",
            "|summary|       employee_id|department|  region|       education|gender|recruitment_channel|   no_of_trainings|              age|previous_year_rating| length_of_service|      KPIs_met >80%|         awards_won?|avg_training_score|        is_promoted|\n",
            "+-------+------------------+----------+--------+----------------+------+-------------------+------------------+-----------------+--------------------+------------------+-------------------+--------------------+------------------+-------------------+\n",
            "|  count|             54808|     54808|   54808|           52399| 54808|              54808|             54808|            54808|               50684|             54808|              54808|               54808|             54808|              54808|\n",
            "|   mean| 39195.83062691578|      NULL|    NULL|            NULL|  NULL|               NULL| 1.253010509414684|34.80391548679025|   3.329255780917055| 5.865512333965844|0.35197416435556855|0.023171799737264635| 63.38675010947307|0.08517004816815063|\n",
            "| stddev|22586.581449145015|      NULL|    NULL|            NULL|  NULL|               NULL|0.6092640176487848|7.660169201585432|   1.259992551940845|4.2650941796858435|0.47759031988344536|  0.1504502589777512|13.371559498625551|0.27913712169547233|\n",
            "|    min|                 1| Analytics|region_1|      Bachelor's|     f|              other|                 1|               20|                   1|                 1|                  0|                   0|                39|                  0|\n",
            "|    max|             78298|Technology|region_9|Master's & above|     m|           sourcing|                10|               60|                   5|                37|                  1|                   1|                99|                  1|\n",
            "+-------+------------------+----------+--------+----------------+------+-------------------+------------------+-----------------+--------------------+------------------+-------------------+--------------------+------------------+-------------------+\n",
            "\n"
          ]
        }
      ]
    },
    {
      "cell_type": "code",
      "source": [
        "df"
      ],
      "metadata": {
        "colab": {
          "base_uri": "https://localhost:8080/"
        },
        "id": "f3L_5oaA2NQl",
        "outputId": "9b77cd3f-3192-4b4e-bbab-cf0c4b2ccb47"
      },
      "execution_count": 122,
      "outputs": [
        {
          "output_type": "execute_result",
          "data": {
            "text/plain": [
              "DataFrame[employee_id: int, department: string, region: string, education: string, gender: string, recruitment_channel: string, no_of_trainings: int, age: int, previous_year_rating: int, length_of_service: int, KPIs_met >80%: int, awards_won?: int, avg_training_score: int, is_promoted: int]"
            ]
          },
          "metadata": {},
          "execution_count": 122
        }
      ]
    },
    {
      "cell_type": "code",
      "source": [
        "df.withColumn('Age after 2 year',df['age']+2).show() # create column"
      ],
      "metadata": {
        "colab": {
          "base_uri": "https://localhost:8080/"
        },
        "id": "r7KkOh2n2Rzj",
        "outputId": "3bee67a7-9bfb-48c0-f2d6-ccfe6f6d3b05"
      },
      "execution_count": 123,
      "outputs": [
        {
          "output_type": "stream",
          "name": "stdout",
          "text": [
            "+-----------+-----------------+---------+----------------+------+-------------------+---------------+---+--------------------+-----------------+-------------+-----------+------------------+-----------+----------------+\n",
            "|employee_id|       department|   region|       education|gender|recruitment_channel|no_of_trainings|age|previous_year_rating|length_of_service|KPIs_met >80%|awards_won?|avg_training_score|is_promoted|Age after 2 year|\n",
            "+-----------+-----------------+---------+----------------+------+-------------------+---------------+---+--------------------+-----------------+-------------+-----------+------------------+-----------+----------------+\n",
            "|      65438|Sales & Marketing| region_7|Master's & above|     f|           sourcing|              1| 35|                   5|                8|            1|          0|                49|          0|              37|\n",
            "|      65141|       Operations|region_22|      Bachelor's|     m|              other|              1| 30|                   5|                4|            0|          0|                60|          0|              32|\n",
            "|       7513|Sales & Marketing|region_19|      Bachelor's|     m|           sourcing|              1| 34|                   3|                7|            0|          0|                50|          0|              36|\n",
            "|       2542|Sales & Marketing|region_23|      Bachelor's|     m|              other|              2| 39|                   1|               10|            0|          0|                50|          0|              41|\n",
            "|      48945|       Technology|region_26|      Bachelor's|     m|              other|              1| 45|                   3|                2|            0|          0|                73|          0|              47|\n",
            "|      58896|        Analytics| region_2|      Bachelor's|     m|           sourcing|              2| 31|                   3|                7|            0|          0|                85|          0|              33|\n",
            "|      20379|       Operations|region_20|      Bachelor's|     f|              other|              1| 31|                   3|                5|            0|          0|                59|          0|              33|\n",
            "|      16290|       Operations|region_34|Master's & above|     m|           sourcing|              1| 33|                   3|                6|            0|          0|                63|          0|              35|\n",
            "|      73202|        Analytics|region_20|      Bachelor's|     m|              other|              1| 28|                   4|                5|            0|          0|                83|          0|              30|\n",
            "|      28911|Sales & Marketing| region_1|Master's & above|     m|           sourcing|              1| 32|                   5|                5|            1|          0|                54|          0|              34|\n",
            "|      29934|       Technology|region_23|            NULL|     m|           sourcing|              1| 30|                NULL|                1|            0|          0|                77|          0|              32|\n",
            "|      49017|Sales & Marketing| region_7|      Bachelor's|     f|           sourcing|              1| 35|                   5|                3|            1|          0|                50|          1|              37|\n",
            "|      60051|Sales & Marketing| region_4|      Bachelor's|     m|           sourcing|              1| 49|                   5|                5|            1|          0|                49|          0|              51|\n",
            "|      38401|       Technology|region_29|Master's & above|     m|              other|              2| 39|                   3|               16|            0|          0|                80|          0|              41|\n",
            "|      77040|              R&D| region_2|Master's & above|     m|           sourcing|              1| 37|                   3|                7|            0|          0|                84|          0|              39|\n",
            "|      43931|       Operations| region_7|      Bachelor's|     m|              other|              1| 37|                   1|               10|            0|          0|                60|          0|              39|\n",
            "|       7152|       Technology| region_2|      Bachelor's|     m|              other|              1| 38|                   3|                5|            1|          0|                77|          0|              40|\n",
            "|       9403|Sales & Marketing|region_31|      Bachelor's|     m|              other|              1| 34|                   1|                4|            0|          0|                51|          0|              36|\n",
            "|      17436|Sales & Marketing|region_31|      Bachelor's|     m|              other|              1| 34|                   5|                8|            1|          0|                46|          0|              36|\n",
            "|      54461|       Operations|region_15|      Bachelor's|     m|              other|              1| 37|                   3|                9|            0|          0|                59|          0|              39|\n",
            "+-----------+-----------------+---------+----------------+------+-------------------+---------------+---+--------------------+-----------------+-------------+-----------+------------------+-----------+----------------+\n",
            "only showing top 20 rows\n",
            "\n"
          ]
        }
      ]
    },
    {
      "cell_type": "code",
      "source": [
        "df.drop('Age after 2 year').show() # delete"
      ],
      "metadata": {
        "colab": {
          "base_uri": "https://localhost:8080/"
        },
        "id": "vUiSR41h3blZ",
        "outputId": "49d1e120-a79f-4e01-8dd4-5aee91677b13"
      },
      "execution_count": 124,
      "outputs": [
        {
          "output_type": "stream",
          "name": "stdout",
          "text": [
            "+-----------+-----------------+---------+----------------+------+-------------------+---------------+---+--------------------+-----------------+-------------+-----------+------------------+-----------+\n",
            "|employee_id|       department|   region|       education|gender|recruitment_channel|no_of_trainings|age|previous_year_rating|length_of_service|KPIs_met >80%|awards_won?|avg_training_score|is_promoted|\n",
            "+-----------+-----------------+---------+----------------+------+-------------------+---------------+---+--------------------+-----------------+-------------+-----------+------------------+-----------+\n",
            "|      65438|Sales & Marketing| region_7|Master's & above|     f|           sourcing|              1| 35|                   5|                8|            1|          0|                49|          0|\n",
            "|      65141|       Operations|region_22|      Bachelor's|     m|              other|              1| 30|                   5|                4|            0|          0|                60|          0|\n",
            "|       7513|Sales & Marketing|region_19|      Bachelor's|     m|           sourcing|              1| 34|                   3|                7|            0|          0|                50|          0|\n",
            "|       2542|Sales & Marketing|region_23|      Bachelor's|     m|              other|              2| 39|                   1|               10|            0|          0|                50|          0|\n",
            "|      48945|       Technology|region_26|      Bachelor's|     m|              other|              1| 45|                   3|                2|            0|          0|                73|          0|\n",
            "|      58896|        Analytics| region_2|      Bachelor's|     m|           sourcing|              2| 31|                   3|                7|            0|          0|                85|          0|\n",
            "|      20379|       Operations|region_20|      Bachelor's|     f|              other|              1| 31|                   3|                5|            0|          0|                59|          0|\n",
            "|      16290|       Operations|region_34|Master's & above|     m|           sourcing|              1| 33|                   3|                6|            0|          0|                63|          0|\n",
            "|      73202|        Analytics|region_20|      Bachelor's|     m|              other|              1| 28|                   4|                5|            0|          0|                83|          0|\n",
            "|      28911|Sales & Marketing| region_1|Master's & above|     m|           sourcing|              1| 32|                   5|                5|            1|          0|                54|          0|\n",
            "|      29934|       Technology|region_23|            NULL|     m|           sourcing|              1| 30|                NULL|                1|            0|          0|                77|          0|\n",
            "|      49017|Sales & Marketing| region_7|      Bachelor's|     f|           sourcing|              1| 35|                   5|                3|            1|          0|                50|          1|\n",
            "|      60051|Sales & Marketing| region_4|      Bachelor's|     m|           sourcing|              1| 49|                   5|                5|            1|          0|                49|          0|\n",
            "|      38401|       Technology|region_29|Master's & above|     m|              other|              2| 39|                   3|               16|            0|          0|                80|          0|\n",
            "|      77040|              R&D| region_2|Master's & above|     m|           sourcing|              1| 37|                   3|                7|            0|          0|                84|          0|\n",
            "|      43931|       Operations| region_7|      Bachelor's|     m|              other|              1| 37|                   1|               10|            0|          0|                60|          0|\n",
            "|       7152|       Technology| region_2|      Bachelor's|     m|              other|              1| 38|                   3|                5|            1|          0|                77|          0|\n",
            "|       9403|Sales & Marketing|region_31|      Bachelor's|     m|              other|              1| 34|                   1|                4|            0|          0|                51|          0|\n",
            "|      17436|Sales & Marketing|region_31|      Bachelor's|     m|              other|              1| 34|                   5|                8|            1|          0|                46|          0|\n",
            "|      54461|       Operations|region_15|      Bachelor's|     m|              other|              1| 37|                   3|                9|            0|          0|                59|          0|\n",
            "+-----------+-----------------+---------+----------------+------+-------------------+---------------+---+--------------------+-----------------+-------------+-----------+------------------+-----------+\n",
            "only showing top 20 rows\n",
            "\n"
          ]
        }
      ]
    },
    {
      "cell_type": "code",
      "source": [
        "df.withColumnRenamed('recruitment_channel','channel').show() # rename column"
      ],
      "metadata": {
        "colab": {
          "base_uri": "https://localhost:8080/"
        },
        "id": "RRfCLFdK3g7f",
        "outputId": "e7fbadad-dd63-4c09-d747-5384a4028ff3"
      },
      "execution_count": 125,
      "outputs": [
        {
          "output_type": "stream",
          "name": "stdout",
          "text": [
            "+-----------+-----------------+---------+----------------+------+--------+---------------+---+--------------------+-----------------+-------------+-----------+------------------+-----------+\n",
            "|employee_id|       department|   region|       education|gender| channel|no_of_trainings|age|previous_year_rating|length_of_service|KPIs_met >80%|awards_won?|avg_training_score|is_promoted|\n",
            "+-----------+-----------------+---------+----------------+------+--------+---------------+---+--------------------+-----------------+-------------+-----------+------------------+-----------+\n",
            "|      65438|Sales & Marketing| region_7|Master's & above|     f|sourcing|              1| 35|                   5|                8|            1|          0|                49|          0|\n",
            "|      65141|       Operations|region_22|      Bachelor's|     m|   other|              1| 30|                   5|                4|            0|          0|                60|          0|\n",
            "|       7513|Sales & Marketing|region_19|      Bachelor's|     m|sourcing|              1| 34|                   3|                7|            0|          0|                50|          0|\n",
            "|       2542|Sales & Marketing|region_23|      Bachelor's|     m|   other|              2| 39|                   1|               10|            0|          0|                50|          0|\n",
            "|      48945|       Technology|region_26|      Bachelor's|     m|   other|              1| 45|                   3|                2|            0|          0|                73|          0|\n",
            "|      58896|        Analytics| region_2|      Bachelor's|     m|sourcing|              2| 31|                   3|                7|            0|          0|                85|          0|\n",
            "|      20379|       Operations|region_20|      Bachelor's|     f|   other|              1| 31|                   3|                5|            0|          0|                59|          0|\n",
            "|      16290|       Operations|region_34|Master's & above|     m|sourcing|              1| 33|                   3|                6|            0|          0|                63|          0|\n",
            "|      73202|        Analytics|region_20|      Bachelor's|     m|   other|              1| 28|                   4|                5|            0|          0|                83|          0|\n",
            "|      28911|Sales & Marketing| region_1|Master's & above|     m|sourcing|              1| 32|                   5|                5|            1|          0|                54|          0|\n",
            "|      29934|       Technology|region_23|            NULL|     m|sourcing|              1| 30|                NULL|                1|            0|          0|                77|          0|\n",
            "|      49017|Sales & Marketing| region_7|      Bachelor's|     f|sourcing|              1| 35|                   5|                3|            1|          0|                50|          1|\n",
            "|      60051|Sales & Marketing| region_4|      Bachelor's|     m|sourcing|              1| 49|                   5|                5|            1|          0|                49|          0|\n",
            "|      38401|       Technology|region_29|Master's & above|     m|   other|              2| 39|                   3|               16|            0|          0|                80|          0|\n",
            "|      77040|              R&D| region_2|Master's & above|     m|sourcing|              1| 37|                   3|                7|            0|          0|                84|          0|\n",
            "|      43931|       Operations| region_7|      Bachelor's|     m|   other|              1| 37|                   1|               10|            0|          0|                60|          0|\n",
            "|       7152|       Technology| region_2|      Bachelor's|     m|   other|              1| 38|                   3|                5|            1|          0|                77|          0|\n",
            "|       9403|Sales & Marketing|region_31|      Bachelor's|     m|   other|              1| 34|                   1|                4|            0|          0|                51|          0|\n",
            "|      17436|Sales & Marketing|region_31|      Bachelor's|     m|   other|              1| 34|                   5|                8|            1|          0|                46|          0|\n",
            "|      54461|       Operations|region_15|      Bachelor's|     m|   other|              1| 37|                   3|                9|            0|          0|                59|          0|\n",
            "+-----------+-----------------+---------+----------------+------+--------+---------------+---+--------------------+-----------------+-------------+-----------+------------------+-----------+\n",
            "only showing top 20 rows\n",
            "\n"
          ]
        }
      ]
    },
    {
      "cell_type": "code",
      "source": [
        "df.na.drop().show() # remove rows which has null value"
      ],
      "metadata": {
        "colab": {
          "base_uri": "https://localhost:8080/"
        },
        "id": "uFAonwds4aGh",
        "outputId": "24257596-28e0-4ba1-a3bc-3edaac166efe"
      },
      "execution_count": 126,
      "outputs": [
        {
          "output_type": "stream",
          "name": "stdout",
          "text": [
            "+-----------+-----------------+---------+----------------+------+-------------------+---------------+---+--------------------+-----------------+-------------+-----------+------------------+-----------+\n",
            "|employee_id|       department|   region|       education|gender|recruitment_channel|no_of_trainings|age|previous_year_rating|length_of_service|KPIs_met >80%|awards_won?|avg_training_score|is_promoted|\n",
            "+-----------+-----------------+---------+----------------+------+-------------------+---------------+---+--------------------+-----------------+-------------+-----------+------------------+-----------+\n",
            "|      65438|Sales & Marketing| region_7|Master's & above|     f|           sourcing|              1| 35|                   5|                8|            1|          0|                49|          0|\n",
            "|      65141|       Operations|region_22|      Bachelor's|     m|              other|              1| 30|                   5|                4|            0|          0|                60|          0|\n",
            "|       7513|Sales & Marketing|region_19|      Bachelor's|     m|           sourcing|              1| 34|                   3|                7|            0|          0|                50|          0|\n",
            "|       2542|Sales & Marketing|region_23|      Bachelor's|     m|              other|              2| 39|                   1|               10|            0|          0|                50|          0|\n",
            "|      48945|       Technology|region_26|      Bachelor's|     m|              other|              1| 45|                   3|                2|            0|          0|                73|          0|\n",
            "|      58896|        Analytics| region_2|      Bachelor's|     m|           sourcing|              2| 31|                   3|                7|            0|          0|                85|          0|\n",
            "|      20379|       Operations|region_20|      Bachelor's|     f|              other|              1| 31|                   3|                5|            0|          0|                59|          0|\n",
            "|      16290|       Operations|region_34|Master's & above|     m|           sourcing|              1| 33|                   3|                6|            0|          0|                63|          0|\n",
            "|      73202|        Analytics|region_20|      Bachelor's|     m|              other|              1| 28|                   4|                5|            0|          0|                83|          0|\n",
            "|      28911|Sales & Marketing| region_1|Master's & above|     m|           sourcing|              1| 32|                   5|                5|            1|          0|                54|          0|\n",
            "|      49017|Sales & Marketing| region_7|      Bachelor's|     f|           sourcing|              1| 35|                   5|                3|            1|          0|                50|          1|\n",
            "|      60051|Sales & Marketing| region_4|      Bachelor's|     m|           sourcing|              1| 49|                   5|                5|            1|          0|                49|          0|\n",
            "|      38401|       Technology|region_29|Master's & above|     m|              other|              2| 39|                   3|               16|            0|          0|                80|          0|\n",
            "|      77040|              R&D| region_2|Master's & above|     m|           sourcing|              1| 37|                   3|                7|            0|          0|                84|          0|\n",
            "|      43931|       Operations| region_7|      Bachelor's|     m|              other|              1| 37|                   1|               10|            0|          0|                60|          0|\n",
            "|       7152|       Technology| region_2|      Bachelor's|     m|              other|              1| 38|                   3|                5|            1|          0|                77|          0|\n",
            "|       9403|Sales & Marketing|region_31|      Bachelor's|     m|              other|              1| 34|                   1|                4|            0|          0|                51|          0|\n",
            "|      17436|Sales & Marketing|region_31|      Bachelor's|     m|              other|              1| 34|                   5|                8|            1|          0|                46|          0|\n",
            "|      54461|       Operations|region_15|      Bachelor's|     m|              other|              1| 37|                   3|                9|            0|          0|                59|          0|\n",
            "|      12067|      Procurement|region_14|      Bachelor's|     m|              other|              1| 35|                   3|                7|            0|          0|                75|          0|\n",
            "+-----------+-----------------+---------+----------------+------+-------------------+---------------+---+--------------------+-----------------+-------------+-----------+------------------+-----------+\n",
            "only showing top 20 rows\n",
            "\n"
          ]
        }
      ]
    },
    {
      "cell_type": "code",
      "source": [
        "df.na.drop(how='all').show()"
      ],
      "metadata": {
        "colab": {
          "base_uri": "https://localhost:8080/"
        },
        "id": "bXDOgN--54GX",
        "outputId": "38a65dbb-060c-453a-c41d-bab31736eac4"
      },
      "execution_count": 127,
      "outputs": [
        {
          "output_type": "stream",
          "name": "stdout",
          "text": [
            "+-----------+-----------------+---------+----------------+------+-------------------+---------------+---+--------------------+-----------------+-------------+-----------+------------------+-----------+\n",
            "|employee_id|       department|   region|       education|gender|recruitment_channel|no_of_trainings|age|previous_year_rating|length_of_service|KPIs_met >80%|awards_won?|avg_training_score|is_promoted|\n",
            "+-----------+-----------------+---------+----------------+------+-------------------+---------------+---+--------------------+-----------------+-------------+-----------+------------------+-----------+\n",
            "|      65438|Sales & Marketing| region_7|Master's & above|     f|           sourcing|              1| 35|                   5|                8|            1|          0|                49|          0|\n",
            "|      65141|       Operations|region_22|      Bachelor's|     m|              other|              1| 30|                   5|                4|            0|          0|                60|          0|\n",
            "|       7513|Sales & Marketing|region_19|      Bachelor's|     m|           sourcing|              1| 34|                   3|                7|            0|          0|                50|          0|\n",
            "|       2542|Sales & Marketing|region_23|      Bachelor's|     m|              other|              2| 39|                   1|               10|            0|          0|                50|          0|\n",
            "|      48945|       Technology|region_26|      Bachelor's|     m|              other|              1| 45|                   3|                2|            0|          0|                73|          0|\n",
            "|      58896|        Analytics| region_2|      Bachelor's|     m|           sourcing|              2| 31|                   3|                7|            0|          0|                85|          0|\n",
            "|      20379|       Operations|region_20|      Bachelor's|     f|              other|              1| 31|                   3|                5|            0|          0|                59|          0|\n",
            "|      16290|       Operations|region_34|Master's & above|     m|           sourcing|              1| 33|                   3|                6|            0|          0|                63|          0|\n",
            "|      73202|        Analytics|region_20|      Bachelor's|     m|              other|              1| 28|                   4|                5|            0|          0|                83|          0|\n",
            "|      28911|Sales & Marketing| region_1|Master's & above|     m|           sourcing|              1| 32|                   5|                5|            1|          0|                54|          0|\n",
            "|      29934|       Technology|region_23|            NULL|     m|           sourcing|              1| 30|                NULL|                1|            0|          0|                77|          0|\n",
            "|      49017|Sales & Marketing| region_7|      Bachelor's|     f|           sourcing|              1| 35|                   5|                3|            1|          0|                50|          1|\n",
            "|      60051|Sales & Marketing| region_4|      Bachelor's|     m|           sourcing|              1| 49|                   5|                5|            1|          0|                49|          0|\n",
            "|      38401|       Technology|region_29|Master's & above|     m|              other|              2| 39|                   3|               16|            0|          0|                80|          0|\n",
            "|      77040|              R&D| region_2|Master's & above|     m|           sourcing|              1| 37|                   3|                7|            0|          0|                84|          0|\n",
            "|      43931|       Operations| region_7|      Bachelor's|     m|              other|              1| 37|                   1|               10|            0|          0|                60|          0|\n",
            "|       7152|       Technology| region_2|      Bachelor's|     m|              other|              1| 38|                   3|                5|            1|          0|                77|          0|\n",
            "|       9403|Sales & Marketing|region_31|      Bachelor's|     m|              other|              1| 34|                   1|                4|            0|          0|                51|          0|\n",
            "|      17436|Sales & Marketing|region_31|      Bachelor's|     m|              other|              1| 34|                   5|                8|            1|          0|                46|          0|\n",
            "|      54461|       Operations|region_15|      Bachelor's|     m|              other|              1| 37|                   3|                9|            0|          0|                59|          0|\n",
            "+-----------+-----------------+---------+----------------+------+-------------------+---------------+---+--------------------+-----------------+-------------+-----------+------------------+-----------+\n",
            "only showing top 20 rows\n",
            "\n"
          ]
        }
      ]
    },
    {
      "cell_type": "code",
      "source": [
        "df.na.drop(how='any',thresh=2).show() #atleast 2 nan value"
      ],
      "metadata": {
        "colab": {
          "base_uri": "https://localhost:8080/"
        },
        "id": "pC4lBzzE6JQ4",
        "outputId": "a1071475-8403-40c6-f6c7-3347b193d4e0"
      },
      "execution_count": 128,
      "outputs": [
        {
          "output_type": "stream",
          "name": "stdout",
          "text": [
            "+-----------+-----------------+---------+----------------+------+-------------------+---------------+---+--------------------+-----------------+-------------+-----------+------------------+-----------+\n",
            "|employee_id|       department|   region|       education|gender|recruitment_channel|no_of_trainings|age|previous_year_rating|length_of_service|KPIs_met >80%|awards_won?|avg_training_score|is_promoted|\n",
            "+-----------+-----------------+---------+----------------+------+-------------------+---------------+---+--------------------+-----------------+-------------+-----------+------------------+-----------+\n",
            "|      65438|Sales & Marketing| region_7|Master's & above|     f|           sourcing|              1| 35|                   5|                8|            1|          0|                49|          0|\n",
            "|      65141|       Operations|region_22|      Bachelor's|     m|              other|              1| 30|                   5|                4|            0|          0|                60|          0|\n",
            "|       7513|Sales & Marketing|region_19|      Bachelor's|     m|           sourcing|              1| 34|                   3|                7|            0|          0|                50|          0|\n",
            "|       2542|Sales & Marketing|region_23|      Bachelor's|     m|              other|              2| 39|                   1|               10|            0|          0|                50|          0|\n",
            "|      48945|       Technology|region_26|      Bachelor's|     m|              other|              1| 45|                   3|                2|            0|          0|                73|          0|\n",
            "|      58896|        Analytics| region_2|      Bachelor's|     m|           sourcing|              2| 31|                   3|                7|            0|          0|                85|          0|\n",
            "|      20379|       Operations|region_20|      Bachelor's|     f|              other|              1| 31|                   3|                5|            0|          0|                59|          0|\n",
            "|      16290|       Operations|region_34|Master's & above|     m|           sourcing|              1| 33|                   3|                6|            0|          0|                63|          0|\n",
            "|      73202|        Analytics|region_20|      Bachelor's|     m|              other|              1| 28|                   4|                5|            0|          0|                83|          0|\n",
            "|      28911|Sales & Marketing| region_1|Master's & above|     m|           sourcing|              1| 32|                   5|                5|            1|          0|                54|          0|\n",
            "|      29934|       Technology|region_23|            NULL|     m|           sourcing|              1| 30|                NULL|                1|            0|          0|                77|          0|\n",
            "|      49017|Sales & Marketing| region_7|      Bachelor's|     f|           sourcing|              1| 35|                   5|                3|            1|          0|                50|          1|\n",
            "|      60051|Sales & Marketing| region_4|      Bachelor's|     m|           sourcing|              1| 49|                   5|                5|            1|          0|                49|          0|\n",
            "|      38401|       Technology|region_29|Master's & above|     m|              other|              2| 39|                   3|               16|            0|          0|                80|          0|\n",
            "|      77040|              R&D| region_2|Master's & above|     m|           sourcing|              1| 37|                   3|                7|            0|          0|                84|          0|\n",
            "|      43931|       Operations| region_7|      Bachelor's|     m|              other|              1| 37|                   1|               10|            0|          0|                60|          0|\n",
            "|       7152|       Technology| region_2|      Bachelor's|     m|              other|              1| 38|                   3|                5|            1|          0|                77|          0|\n",
            "|       9403|Sales & Marketing|region_31|      Bachelor's|     m|              other|              1| 34|                   1|                4|            0|          0|                51|          0|\n",
            "|      17436|Sales & Marketing|region_31|      Bachelor's|     m|              other|              1| 34|                   5|                8|            1|          0|                46|          0|\n",
            "|      54461|       Operations|region_15|      Bachelor's|     m|              other|              1| 37|                   3|                9|            0|          0|                59|          0|\n",
            "+-----------+-----------------+---------+----------------+------+-------------------+---------------+---+--------------------+-----------------+-------------+-----------+------------------+-----------+\n",
            "only showing top 20 rows\n",
            "\n"
          ]
        }
      ]
    },
    {
      "cell_type": "code",
      "source": [
        "df.na.drop(how='any',thresh=1,subset=['age']).show() # remove nan if nan exist in Age column"
      ],
      "metadata": {
        "colab": {
          "base_uri": "https://localhost:8080/"
        },
        "id": "sWx0CAkS6iw4",
        "outputId": "f1640e4d-0fef-43ee-9705-fb8212b734ee"
      },
      "execution_count": 129,
      "outputs": [
        {
          "output_type": "stream",
          "name": "stdout",
          "text": [
            "+-----------+-----------------+---------+----------------+------+-------------------+---------------+---+--------------------+-----------------+-------------+-----------+------------------+-----------+\n",
            "|employee_id|       department|   region|       education|gender|recruitment_channel|no_of_trainings|age|previous_year_rating|length_of_service|KPIs_met >80%|awards_won?|avg_training_score|is_promoted|\n",
            "+-----------+-----------------+---------+----------------+------+-------------------+---------------+---+--------------------+-----------------+-------------+-----------+------------------+-----------+\n",
            "|      65438|Sales & Marketing| region_7|Master's & above|     f|           sourcing|              1| 35|                   5|                8|            1|          0|                49|          0|\n",
            "|      65141|       Operations|region_22|      Bachelor's|     m|              other|              1| 30|                   5|                4|            0|          0|                60|          0|\n",
            "|       7513|Sales & Marketing|region_19|      Bachelor's|     m|           sourcing|              1| 34|                   3|                7|            0|          0|                50|          0|\n",
            "|       2542|Sales & Marketing|region_23|      Bachelor's|     m|              other|              2| 39|                   1|               10|            0|          0|                50|          0|\n",
            "|      48945|       Technology|region_26|      Bachelor's|     m|              other|              1| 45|                   3|                2|            0|          0|                73|          0|\n",
            "|      58896|        Analytics| region_2|      Bachelor's|     m|           sourcing|              2| 31|                   3|                7|            0|          0|                85|          0|\n",
            "|      20379|       Operations|region_20|      Bachelor's|     f|              other|              1| 31|                   3|                5|            0|          0|                59|          0|\n",
            "|      16290|       Operations|region_34|Master's & above|     m|           sourcing|              1| 33|                   3|                6|            0|          0|                63|          0|\n",
            "|      73202|        Analytics|region_20|      Bachelor's|     m|              other|              1| 28|                   4|                5|            0|          0|                83|          0|\n",
            "|      28911|Sales & Marketing| region_1|Master's & above|     m|           sourcing|              1| 32|                   5|                5|            1|          0|                54|          0|\n",
            "|      29934|       Technology|region_23|            NULL|     m|           sourcing|              1| 30|                NULL|                1|            0|          0|                77|          0|\n",
            "|      49017|Sales & Marketing| region_7|      Bachelor's|     f|           sourcing|              1| 35|                   5|                3|            1|          0|                50|          1|\n",
            "|      60051|Sales & Marketing| region_4|      Bachelor's|     m|           sourcing|              1| 49|                   5|                5|            1|          0|                49|          0|\n",
            "|      38401|       Technology|region_29|Master's & above|     m|              other|              2| 39|                   3|               16|            0|          0|                80|          0|\n",
            "|      77040|              R&D| region_2|Master's & above|     m|           sourcing|              1| 37|                   3|                7|            0|          0|                84|          0|\n",
            "|      43931|       Operations| region_7|      Bachelor's|     m|              other|              1| 37|                   1|               10|            0|          0|                60|          0|\n",
            "|       7152|       Technology| region_2|      Bachelor's|     m|              other|              1| 38|                   3|                5|            1|          0|                77|          0|\n",
            "|       9403|Sales & Marketing|region_31|      Bachelor's|     m|              other|              1| 34|                   1|                4|            0|          0|                51|          0|\n",
            "|      17436|Sales & Marketing|region_31|      Bachelor's|     m|              other|              1| 34|                   5|                8|            1|          0|                46|          0|\n",
            "|      54461|       Operations|region_15|      Bachelor's|     m|              other|              1| 37|                   3|                9|            0|          0|                59|          0|\n",
            "+-----------+-----------------+---------+----------------+------+-------------------+---------------+---+--------------------+-----------------+-------------+-----------+------------------+-----------+\n",
            "only showing top 20 rows\n",
            "\n"
          ]
        }
      ]
    },
    {
      "cell_type": "code",
      "source": [
        "df.na.fill('wowow').show()  # replace nan with wowow"
      ],
      "metadata": {
        "colab": {
          "base_uri": "https://localhost:8080/"
        },
        "id": "_JVp-hri7Qng",
        "outputId": "bb13e06d-5442-4b24-dd21-1ee9225f20f9"
      },
      "execution_count": 130,
      "outputs": [
        {
          "output_type": "stream",
          "name": "stdout",
          "text": [
            "+-----------+-----------------+---------+----------------+------+-------------------+---------------+---+--------------------+-----------------+-------------+-----------+------------------+-----------+\n",
            "|employee_id|       department|   region|       education|gender|recruitment_channel|no_of_trainings|age|previous_year_rating|length_of_service|KPIs_met >80%|awards_won?|avg_training_score|is_promoted|\n",
            "+-----------+-----------------+---------+----------------+------+-------------------+---------------+---+--------------------+-----------------+-------------+-----------+------------------+-----------+\n",
            "|      65438|Sales & Marketing| region_7|Master's & above|     f|           sourcing|              1| 35|                   5|                8|            1|          0|                49|          0|\n",
            "|      65141|       Operations|region_22|      Bachelor's|     m|              other|              1| 30|                   5|                4|            0|          0|                60|          0|\n",
            "|       7513|Sales & Marketing|region_19|      Bachelor's|     m|           sourcing|              1| 34|                   3|                7|            0|          0|                50|          0|\n",
            "|       2542|Sales & Marketing|region_23|      Bachelor's|     m|              other|              2| 39|                   1|               10|            0|          0|                50|          0|\n",
            "|      48945|       Technology|region_26|      Bachelor's|     m|              other|              1| 45|                   3|                2|            0|          0|                73|          0|\n",
            "|      58896|        Analytics| region_2|      Bachelor's|     m|           sourcing|              2| 31|                   3|                7|            0|          0|                85|          0|\n",
            "|      20379|       Operations|region_20|      Bachelor's|     f|              other|              1| 31|                   3|                5|            0|          0|                59|          0|\n",
            "|      16290|       Operations|region_34|Master's & above|     m|           sourcing|              1| 33|                   3|                6|            0|          0|                63|          0|\n",
            "|      73202|        Analytics|region_20|      Bachelor's|     m|              other|              1| 28|                   4|                5|            0|          0|                83|          0|\n",
            "|      28911|Sales & Marketing| region_1|Master's & above|     m|           sourcing|              1| 32|                   5|                5|            1|          0|                54|          0|\n",
            "|      29934|       Technology|region_23|           wowow|     m|           sourcing|              1| 30|                NULL|                1|            0|          0|                77|          0|\n",
            "|      49017|Sales & Marketing| region_7|      Bachelor's|     f|           sourcing|              1| 35|                   5|                3|            1|          0|                50|          1|\n",
            "|      60051|Sales & Marketing| region_4|      Bachelor's|     m|           sourcing|              1| 49|                   5|                5|            1|          0|                49|          0|\n",
            "|      38401|       Technology|region_29|Master's & above|     m|              other|              2| 39|                   3|               16|            0|          0|                80|          0|\n",
            "|      77040|              R&D| region_2|Master's & above|     m|           sourcing|              1| 37|                   3|                7|            0|          0|                84|          0|\n",
            "|      43931|       Operations| region_7|      Bachelor's|     m|              other|              1| 37|                   1|               10|            0|          0|                60|          0|\n",
            "|       7152|       Technology| region_2|      Bachelor's|     m|              other|              1| 38|                   3|                5|            1|          0|                77|          0|\n",
            "|       9403|Sales & Marketing|region_31|      Bachelor's|     m|              other|              1| 34|                   1|                4|            0|          0|                51|          0|\n",
            "|      17436|Sales & Marketing|region_31|      Bachelor's|     m|              other|              1| 34|                   5|                8|            1|          0|                46|          0|\n",
            "|      54461|       Operations|region_15|      Bachelor's|     m|              other|              1| 37|                   3|                9|            0|          0|                59|          0|\n",
            "+-----------+-----------------+---------+----------------+------+-------------------+---------------+---+--------------------+-----------------+-------------+-----------+------------------+-----------+\n",
            "only showing top 20 rows\n",
            "\n"
          ]
        }
      ]
    },
    {
      "cell_type": "code",
      "source": [
        "df.na.fill('wowow',subset=['education']).show()  # replace nan with wowow"
      ],
      "metadata": {
        "colab": {
          "base_uri": "https://localhost:8080/"
        },
        "id": "6IyDy13I7cxr",
        "outputId": "0f405b75-c8c1-4e95-dd1c-f059c2c8a9dd"
      },
      "execution_count": 131,
      "outputs": [
        {
          "output_type": "stream",
          "name": "stdout",
          "text": [
            "+-----------+-----------------+---------+----------------+------+-------------------+---------------+---+--------------------+-----------------+-------------+-----------+------------------+-----------+\n",
            "|employee_id|       department|   region|       education|gender|recruitment_channel|no_of_trainings|age|previous_year_rating|length_of_service|KPIs_met >80%|awards_won?|avg_training_score|is_promoted|\n",
            "+-----------+-----------------+---------+----------------+------+-------------------+---------------+---+--------------------+-----------------+-------------+-----------+------------------+-----------+\n",
            "|      65438|Sales & Marketing| region_7|Master's & above|     f|           sourcing|              1| 35|                   5|                8|            1|          0|                49|          0|\n",
            "|      65141|       Operations|region_22|      Bachelor's|     m|              other|              1| 30|                   5|                4|            0|          0|                60|          0|\n",
            "|       7513|Sales & Marketing|region_19|      Bachelor's|     m|           sourcing|              1| 34|                   3|                7|            0|          0|                50|          0|\n",
            "|       2542|Sales & Marketing|region_23|      Bachelor's|     m|              other|              2| 39|                   1|               10|            0|          0|                50|          0|\n",
            "|      48945|       Technology|region_26|      Bachelor's|     m|              other|              1| 45|                   3|                2|            0|          0|                73|          0|\n",
            "|      58896|        Analytics| region_2|      Bachelor's|     m|           sourcing|              2| 31|                   3|                7|            0|          0|                85|          0|\n",
            "|      20379|       Operations|region_20|      Bachelor's|     f|              other|              1| 31|                   3|                5|            0|          0|                59|          0|\n",
            "|      16290|       Operations|region_34|Master's & above|     m|           sourcing|              1| 33|                   3|                6|            0|          0|                63|          0|\n",
            "|      73202|        Analytics|region_20|      Bachelor's|     m|              other|              1| 28|                   4|                5|            0|          0|                83|          0|\n",
            "|      28911|Sales & Marketing| region_1|Master's & above|     m|           sourcing|              1| 32|                   5|                5|            1|          0|                54|          0|\n",
            "|      29934|       Technology|region_23|           wowow|     m|           sourcing|              1| 30|                NULL|                1|            0|          0|                77|          0|\n",
            "|      49017|Sales & Marketing| region_7|      Bachelor's|     f|           sourcing|              1| 35|                   5|                3|            1|          0|                50|          1|\n",
            "|      60051|Sales & Marketing| region_4|      Bachelor's|     m|           sourcing|              1| 49|                   5|                5|            1|          0|                49|          0|\n",
            "|      38401|       Technology|region_29|Master's & above|     m|              other|              2| 39|                   3|               16|            0|          0|                80|          0|\n",
            "|      77040|              R&D| region_2|Master's & above|     m|           sourcing|              1| 37|                   3|                7|            0|          0|                84|          0|\n",
            "|      43931|       Operations| region_7|      Bachelor's|     m|              other|              1| 37|                   1|               10|            0|          0|                60|          0|\n",
            "|       7152|       Technology| region_2|      Bachelor's|     m|              other|              1| 38|                   3|                5|            1|          0|                77|          0|\n",
            "|       9403|Sales & Marketing|region_31|      Bachelor's|     m|              other|              1| 34|                   1|                4|            0|          0|                51|          0|\n",
            "|      17436|Sales & Marketing|region_31|      Bachelor's|     m|              other|              1| 34|                   5|                8|            1|          0|                46|          0|\n",
            "|      54461|       Operations|region_15|      Bachelor's|     m|              other|              1| 37|                   3|                9|            0|          0|                59|          0|\n",
            "+-----------+-----------------+---------+----------------+------+-------------------+---------------+---+--------------------+-----------------+-------------+-----------+------------------+-----------+\n",
            "only showing top 20 rows\n",
            "\n"
          ]
        }
      ]
    },
    {
      "cell_type": "code",
      "source": [
        "df.columns"
      ],
      "metadata": {
        "colab": {
          "base_uri": "https://localhost:8080/"
        },
        "id": "vgOcYiKE8lNh",
        "outputId": "df0dc27a-fedd-47a5-82ac-ac005aaebb75"
      },
      "execution_count": 132,
      "outputs": [
        {
          "output_type": "execute_result",
          "data": {
            "text/plain": [
              "['employee_id',\n",
              " 'department',\n",
              " 'region',\n",
              " 'education',\n",
              " 'gender',\n",
              " 'recruitment_channel',\n",
              " 'no_of_trainings',\n",
              " 'age',\n",
              " 'previous_year_rating',\n",
              " 'length_of_service',\n",
              " 'KPIs_met >80%',\n",
              " 'awards_won?',\n",
              " 'avg_training_score',\n",
              " 'is_promoted']"
            ]
          },
          "metadata": {},
          "execution_count": 132
        }
      ]
    },
    {
      "cell_type": "code",
      "source": [
        "df = df.drop(*df.columns[9:])\n",
        "df = df.drop(*df.columns[:3])"
      ],
      "metadata": {
        "id": "PSzBlhhx7liQ"
      },
      "execution_count": 133,
      "outputs": []
    },
    {
      "cell_type": "code",
      "source": [
        "df.show()"
      ],
      "metadata": {
        "colab": {
          "base_uri": "https://localhost:8080/"
        },
        "id": "NxasKm5i8wts",
        "outputId": "a04be3a2-818a-4f6a-98e9-61d8e9576e67"
      },
      "execution_count": 134,
      "outputs": [
        {
          "output_type": "stream",
          "name": "stdout",
          "text": [
            "+----------------+------+-------------------+---------------+---+--------------------+\n",
            "|       education|gender|recruitment_channel|no_of_trainings|age|previous_year_rating|\n",
            "+----------------+------+-------------------+---------------+---+--------------------+\n",
            "|Master's & above|     f|           sourcing|              1| 35|                   5|\n",
            "|      Bachelor's|     m|              other|              1| 30|                   5|\n",
            "|      Bachelor's|     m|           sourcing|              1| 34|                   3|\n",
            "|      Bachelor's|     m|              other|              2| 39|                   1|\n",
            "|      Bachelor's|     m|              other|              1| 45|                   3|\n",
            "|      Bachelor's|     m|           sourcing|              2| 31|                   3|\n",
            "|      Bachelor's|     f|              other|              1| 31|                   3|\n",
            "|Master's & above|     m|           sourcing|              1| 33|                   3|\n",
            "|      Bachelor's|     m|              other|              1| 28|                   4|\n",
            "|Master's & above|     m|           sourcing|              1| 32|                   5|\n",
            "|            NULL|     m|           sourcing|              1| 30|                NULL|\n",
            "|      Bachelor's|     f|           sourcing|              1| 35|                   5|\n",
            "|      Bachelor's|     m|           sourcing|              1| 49|                   5|\n",
            "|Master's & above|     m|              other|              2| 39|                   3|\n",
            "|Master's & above|     m|           sourcing|              1| 37|                   3|\n",
            "|      Bachelor's|     m|              other|              1| 37|                   1|\n",
            "|      Bachelor's|     m|              other|              1| 38|                   3|\n",
            "|      Bachelor's|     m|              other|              1| 34|                   1|\n",
            "|      Bachelor's|     m|              other|              1| 34|                   5|\n",
            "|      Bachelor's|     m|              other|              1| 37|                   3|\n",
            "+----------------+------+-------------------+---------------+---+--------------------+\n",
            "only showing top 20 rows\n",
            "\n"
          ]
        }
      ]
    },
    {
      "cell_type": "code",
      "source": [
        "df = df.withColumnRenamed('previous_year_rating','pyr')"
      ],
      "metadata": {
        "id": "wJ2aiHiz90ta"
      },
      "execution_count": 135,
      "outputs": []
    },
    {
      "cell_type": "code",
      "source": [
        "# from pyspark.ml.feature import Imputer\n",
        "\n",
        "\n",
        "# imputer = Imputer(\n",
        "#     inputCols=['education','pyr'],\n",
        "#     outputCols=[f'new_{name}' for name in ['education','pyr']]\n",
        "# ).setStrategy('max')\n",
        "\n",
        "# imputer.fit(df).transform(df).show()"
      ],
      "metadata": {
        "id": "SLlDKBAl8-uJ"
      },
      "execution_count": 141,
      "outputs": []
    },
    {
      "cell_type": "markdown",
      "source": [
        "# Filter operation"
      ],
      "metadata": {
        "id": "n2oRC05JAKaq"
      }
    },
    {
      "cell_type": "code",
      "source": [
        "df.filter('age > 40').select(['age','education']).show()"
      ],
      "metadata": {
        "colab": {
          "base_uri": "https://localhost:8080/"
        },
        "id": "pr1xnLaN-Ylr",
        "outputId": "25bd3eaf-8941-47f3-a184-c5fd2bc73698"
      },
      "execution_count": 144,
      "outputs": [
        {
          "output_type": "stream",
          "name": "stdout",
          "text": [
            "+---+----------------+\n",
            "|age|       education|\n",
            "+---+----------------+\n",
            "| 45|      Bachelor's|\n",
            "| 49|      Bachelor's|\n",
            "| 41|            NULL|\n",
            "| 57|      Bachelor's|\n",
            "| 42|Master's & above|\n",
            "| 59|      Bachelor's|\n",
            "| 44|      Bachelor's|\n",
            "| 50|      Bachelor's|\n",
            "| 56|Master's & above|\n",
            "| 50|Master's & above|\n",
            "| 50|      Bachelor's|\n",
            "| 41|Master's & above|\n",
            "| 50|      Bachelor's|\n",
            "| 47|      Bachelor's|\n",
            "| 42|Master's & above|\n",
            "| 46|Master's & above|\n",
            "| 47|Master's & above|\n",
            "| 44|      Bachelor's|\n",
            "| 41|      Bachelor's|\n",
            "| 60|Master's & above|\n",
            "+---+----------------+\n",
            "only showing top 20 rows\n",
            "\n"
          ]
        }
      ]
    },
    {
      "cell_type": "code",
      "source": [
        "df = spark.read.csv('/content/test3.csv',header=True,inferSchema=True)"
      ],
      "metadata": {
        "id": "nVgc4_Yu-f81"
      },
      "execution_count": 148,
      "outputs": []
    },
    {
      "cell_type": "code",
      "source": [
        "df.show()"
      ],
      "metadata": {
        "colab": {
          "base_uri": "https://localhost:8080/"
        },
        "id": "Dwu18DPTOk8P",
        "outputId": "78f9ed64-ebb9-465e-efd7-ca0c9f812a28"
      },
      "execution_count": 149,
      "outputs": [
        {
          "output_type": "stream",
          "name": "stdout",
          "text": [
            "+---------+------------+------+\n",
            "|     Name| Departments|salary|\n",
            "+---------+------------+------+\n",
            "|    Krish|Data Science| 10000|\n",
            "|    Krish|         IOT|  5000|\n",
            "|   Mahesh|    Big Data|  4000|\n",
            "|    Krish|    Big Data|  4000|\n",
            "|   Mahesh|Data Science|  3000|\n",
            "|Sudhanshu|Data Science| 20000|\n",
            "|Sudhanshu|         IOT| 10000|\n",
            "|Sudhanshu|    Big Data|  5000|\n",
            "|    Sunny|Data Science| 10000|\n",
            "|    Sunny|    Big Data|  2000|\n",
            "+---------+------------+------+\n",
            "\n"
          ]
        }
      ]
    },
    {
      "cell_type": "code",
      "source": [
        "df.groupby('Name').sum().show()"
      ],
      "metadata": {
        "colab": {
          "base_uri": "https://localhost:8080/"
        },
        "id": "f7m9omFlOp6u",
        "outputId": "5b617c9c-1d5d-43e6-a2dd-b9038708895b"
      },
      "execution_count": 151,
      "outputs": [
        {
          "output_type": "stream",
          "name": "stdout",
          "text": [
            "+---------+-----------+\n",
            "|     Name|sum(salary)|\n",
            "+---------+-----------+\n",
            "|Sudhanshu|      35000|\n",
            "|    Sunny|      12000|\n",
            "|    Krish|      19000|\n",
            "|   Mahesh|       7000|\n",
            "+---------+-----------+\n",
            "\n"
          ]
        }
      ]
    },
    {
      "cell_type": "code",
      "source": [
        "df.groupby('Departments').sum().show()"
      ],
      "metadata": {
        "colab": {
          "base_uri": "https://localhost:8080/"
        },
        "id": "ZU67wCgcPAHb",
        "outputId": "aeab31ac-0dfc-44c7-9a74-7694b87a035c"
      },
      "execution_count": 152,
      "outputs": [
        {
          "output_type": "stream",
          "name": "stdout",
          "text": [
            "+------------+-----------+\n",
            "| Departments|sum(salary)|\n",
            "+------------+-----------+\n",
            "|         IOT|      15000|\n",
            "|    Big Data|      15000|\n",
            "|Data Science|      43000|\n",
            "+------------+-----------+\n",
            "\n"
          ]
        }
      ]
    },
    {
      "cell_type": "code",
      "source": [
        "df.groupby('Departments').count().show()"
      ],
      "metadata": {
        "colab": {
          "base_uri": "https://localhost:8080/"
        },
        "id": "OFHKPFB-Pax-",
        "outputId": "34c7981c-f004-4612-f6cd-6d91e1afbe2e"
      },
      "execution_count": 153,
      "outputs": [
        {
          "output_type": "stream",
          "name": "stdout",
          "text": [
            "+------------+-----+\n",
            "| Departments|count|\n",
            "+------------+-----+\n",
            "|         IOT|    2|\n",
            "|    Big Data|    4|\n",
            "|Data Science|    4|\n",
            "+------------+-----+\n",
            "\n"
          ]
        }
      ]
    },
    {
      "cell_type": "code",
      "source": [
        "df.agg({'Salary':'sum'}).show()"
      ],
      "metadata": {
        "colab": {
          "base_uri": "https://localhost:8080/"
        },
        "id": "oYv7NXxQPy4F",
        "outputId": "f5310ace-bfaa-4eed-e54c-4ccabd46b6e9"
      },
      "execution_count": 159,
      "outputs": [
        {
          "output_type": "stream",
          "name": "stdout",
          "text": [
            "+-----------+\n",
            "|sum(Salary)|\n",
            "+-----------+\n",
            "|      73000|\n",
            "+-----------+\n",
            "\n"
          ]
        }
      ]
    },
    {
      "cell_type": "code",
      "source": [],
      "metadata": {
        "id": "slKa7Xq2P1Sc"
      },
      "execution_count": null,
      "outputs": []
    }
  ]
}